{
 "cells": [
  {
   "cell_type": "code",
   "execution_count": null,
   "id": "b691d682",
   "metadata": {},
   "outputs": [],
   "source": [
    "a = [\"asadas\". \"asdasdasd\", \"asdasdasd\"]\n",
    "b = [\"efasd\". \"asdasdasd\", \"asdasdasd\"]"
   ]
  },
  {
   "cell_type": "code",
   "execution_count": null,
   "id": "81faf59a",
   "metadata": {},
   "outputs": [],
   "source": []
  }
 ],
 "metadata": {
  "kernelspec": {
   "display_name": "Python 3 (ipykernel)",
   "language": "python",
   "name": "python3"
  }
 },
 "nbformat": 4,
 "nbformat_minor": 5
}
