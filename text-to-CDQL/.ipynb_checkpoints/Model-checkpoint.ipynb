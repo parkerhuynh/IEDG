{
 "cells": [
  {
   "cell_type": "markdown",
   "metadata": {
    "id": "dgsa2sdiCYqD"
   },
   "source": [
    "# Packages"
   ]
  },
  {
   "cell_type": "code",
   "execution_count": 2,
   "metadata": {
    "ExecuteTime": {
     "end_time": "2021-12-14T10:42:18.726179Z",
     "start_time": "2021-12-14T10:42:18.722640Z"
    },
    "colab": {
     "base_uri": "https://localhost:8080/"
    },
    "id": "zX65HRm5CV6G",
    "outputId": "caa7088f-0235-4e6c-ba1d-2c70103576b1"
   },
   "outputs": [],
   "source": [
    "\n",
    "import numpy as np\n",
    "\n",
    "import typing\n",
    "from typing import Any, Tuple\n",
    "\n",
    "\n",
    "\n",
    "import tensorflow_text as tf_text\n",
    "\n",
    "import matplotlib.pyplot as plt\n",
    "import matplotlib.ticker as ticker\n",
    "#!pip install plot_keras_history"
   ]
  },
  {
   "cell_type": "code",
   "execution_count": 4,
   "metadata": {
    "ExecuteTime": {
     "end_time": "2021-12-14T10:42:26.363579Z",
     "start_time": "2021-12-14T10:42:25.835082Z"
    },
    "colab": {
     "base_uri": "https://localhost:8080/"
    },
    "id": "3mrx4xbMZZ9f",
    "outputId": "59f424f3-8a34-40cc-84e7-85ed0cd71b47"
   },
   "outputs": [
    {
     "name": "stdout",
     "output_type": "stream",
     "text": [
      "Python 2.7.18\r\n"
     ]
    }
   ],
   "source": [
    "!python --version"
   ]
  },
  {
   "cell_type": "markdown",
   "metadata": {
    "id": "21VMPXEtCbyk"
   },
   "source": [
    "# Data generation"
   ]
  },
  {
   "cell_type": "code",
   "execution_count": 5,
   "metadata": {
    "ExecuteTime": {
     "end_time": "2021-12-14T10:42:27.191786Z",
     "start_time": "2021-12-14T10:42:27.187911Z"
    },
    "id": "csLBoX46LomW"
   },
   "outputs": [],
   "source": [
    "#Templates for data generation\n",
    "templates = [\n",
    "    {\n",
    "        \"text\": \"is the <A> in the <B> turning on?\",\n",
    "        \"query\": 'pull (device.hasState.isOn) define entity device is from smarthome where device.deviceName = \"<A>\" and  device.isIn.buildingenvironment = \"<B>\"'\n",
    "    },\n",
    "\n",
    "    {\n",
    "        \"text\": \"does the <A> in the <B> turn on?\",\n",
    "        \"query\": 'pull (device.hasState.isOn) define entity device is from smarthome where device.deviceName = \"<A>\" and  device.isIn.buildingenvironment = \"<B>\"'\n",
    "    },\n",
    "    {\n",
    "        \"text\": \"give me the state of the <A> in the <B>.\",\n",
    "        \"query\": 'pull (device.hasState.isOn) define entity device is from smarthome where device.deviceName = \"<A>\" and  device.isIn.buildingenvironment = \"<B>\"'\n",
    "    },\n",
    "    {\n",
    "        \"text\": \"in the <B>, give me the state of the <A>.\",\n",
    "        \"query\": 'pull (device.hasState.isOn) define entity device is from smarthome where device.deviceName = \"<A>\" and  device.isIn.buildingenvironment = \"<B>\"'\n",
    "    },\n",
    "    {\n",
    "        \"text\": \"in the <B>, is the <A> turning on.\",\n",
    "        \"query\": 'pull (device.hasState.isOn) define entity device is from smarthome where device.deviceName = \"<A>\" and  device.isIn.buildingenvironment = \"<B>\"'\n",
    "    },\n",
    "    {\n",
    "        \"text\": \"does the <A> in the <B> turn on.\",\n",
    "        \"query\": 'pull (device.hasState.isOn) define entity device is from smarthome where device.deviceName = \"<A>\" and  device.isIn.buildingenvironment = \"<B>\"'\n",
    "    },\n",
    "    {\n",
    "        \"text\": \"What is the current <A> level in the <B>.\",\n",
    "        \"query\": 'pull (device.stateValue) define entity device is from smarthome where device.hasState.isOn = true and device.deviceName = \"<A>\" and device.isIn.buildingenvironment = \"<B>\"'\n",
    "    },\n",
    "    {\n",
    "        \"text\": \"Give me <A> of the <B> level.\",\n",
    "        \"query\": 'pull (device.stateValue) define entity device is from smarthome where device.hasState.isOn = true and device.deviceName = \"<A>\" and device.isIn.buildingenvironment = \"<B>\"'\n",
    "    },\n",
    "    {\n",
    "        \"text\": \"in the <B>, What is the current <A> level.\",\n",
    "        \"query\": 'pull (device.stateValue) define entity device is from smarthome where device.hasState.isOn = true and device.deviceName = \"<A>\" and device.isIn.buildingenvironment = \"<B>\"'        \n",
    "    },   \n",
    "]"
   ]
  },
  {
   "cell_type": "code",
   "execution_count": 6,
   "metadata": {
    "ExecuteTime": {
     "end_time": "2021-12-14T10:42:27.837301Z",
     "start_time": "2021-12-14T10:42:27.819080Z"
    },
    "id": "w16iCx-BLu7T"
   },
   "outputs": [],
   "source": [
    "import pandas as pd\n",
    "texts = []\n",
    "queries = []\n",
    "\n",
    "buildingenvironments = ['spare room', 'bedroom', 'bathroom', 'balcony', 'nursery', 'utility room', 'living room', 'lounge', 'family room', 'dining room',\\\n",
    "    'kitchen', 'garage', 'mud room', 'basement', 'games room', 'library', 'hall', 'shed', 'loft', 'attic', 'cellar', 'box room', 'landing', 'music room', \\\n",
    "    'office', 'pantry', 'guest room', 'toilet', 'restroom']\n",
    "devices = ['temperature', 'humidity', 'tv', 'clock', 'coffe maker', 'computer', 'dvd', 'radio', 'fan', 'printer', 'fridge', 'electrical  oven',\\\n",
    "    'microwave oven', 'heater', 'lamp', 'light', 'projector']\n",
    "for template in templates:\n",
    "    text = template[\"text\"]\n",
    "    query =  template[\"query\"]\n",
    "    for device in devices:\n",
    "        for buildingenvironment in buildingenvironments:\n",
    "            text_i = text.replace(\"<A>\", device)\n",
    "            text_i = text_i.replace(\"<B>\", buildingenvironment)\n",
    "            texts.append(text_i)\n",
    "\n",
    "            query_i = query.replace(\"<A>\", device)\n",
    "            query_i = query_i.replace(\"<B>\", buildingenvironment)\n",
    "            queries.append(query_i)\n",
    "\n",
    "data = pd.DataFrame()\n",
    "data[\"text\"] = texts\n",
    "data[\"query\"] = queries"
   ]
  },
  {
   "cell_type": "code",
   "execution_count": 7,
   "metadata": {
    "ExecuteTime": {
     "end_time": "2021-12-14T10:42:28.376624Z",
     "start_time": "2021-12-14T10:42:28.364514Z"
    },
    "colab": {
     "base_uri": "https://localhost:8080/",
     "height": 202
    },
    "id": "z3zN_31oL3I1",
    "outputId": "4fc9a5ea-24e3-40a2-fa70-a6703eee330a"
   },
   "outputs": [
    {
     "data": {
      "text/html": [
       "<div>\n",
       "<style scoped>\n",
       "    .dataframe tbody tr th:only-of-type {\n",
       "        vertical-align: middle;\n",
       "    }\n",
       "\n",
       "    .dataframe tbody tr th {\n",
       "        vertical-align: top;\n",
       "    }\n",
       "\n",
       "    .dataframe thead th {\n",
       "        text-align: right;\n",
       "    }\n",
       "</style>\n",
       "<table border=\"1\" class=\"dataframe\">\n",
       "  <thead>\n",
       "    <tr style=\"text-align: right;\">\n",
       "      <th></th>\n",
       "      <th>text</th>\n",
       "      <th>query</th>\n",
       "    </tr>\n",
       "  </thead>\n",
       "  <tbody>\n",
       "    <tr>\n",
       "      <th>0</th>\n",
       "      <td>is the temperature in the spare room turning on?</td>\n",
       "      <td>pull (device.hasState.isOn) define entity devi...</td>\n",
       "    </tr>\n",
       "    <tr>\n",
       "      <th>1</th>\n",
       "      <td>is the temperature in the bedroom turning on?</td>\n",
       "      <td>pull (device.hasState.isOn) define entity devi...</td>\n",
       "    </tr>\n",
       "    <tr>\n",
       "      <th>2</th>\n",
       "      <td>is the temperature in the bathroom turning on?</td>\n",
       "      <td>pull (device.hasState.isOn) define entity devi...</td>\n",
       "    </tr>\n",
       "    <tr>\n",
       "      <th>3</th>\n",
       "      <td>is the temperature in the balcony turning on?</td>\n",
       "      <td>pull (device.hasState.isOn) define entity devi...</td>\n",
       "    </tr>\n",
       "    <tr>\n",
       "      <th>4</th>\n",
       "      <td>is the temperature in the nursery turning on?</td>\n",
       "      <td>pull (device.hasState.isOn) define entity devi...</td>\n",
       "    </tr>\n",
       "  </tbody>\n",
       "</table>\n",
       "</div>"
      ],
      "text/plain": [
       "                                               text  \\\n",
       "0  is the temperature in the spare room turning on?   \n",
       "1     is the temperature in the bedroom turning on?   \n",
       "2    is the temperature in the bathroom turning on?   \n",
       "3     is the temperature in the balcony turning on?   \n",
       "4     is the temperature in the nursery turning on?   \n",
       "\n",
       "                                               query  \n",
       "0  pull (device.hasState.isOn) define entity devi...  \n",
       "1  pull (device.hasState.isOn) define entity devi...  \n",
       "2  pull (device.hasState.isOn) define entity devi...  \n",
       "3  pull (device.hasState.isOn) define entity devi...  \n",
       "4  pull (device.hasState.isOn) define entity devi...  "
      ]
     },
     "execution_count": 7,
     "metadata": {},
     "output_type": "execute_result"
    }
   ],
   "source": [
    "data.head()"
   ]
  },
  {
   "cell_type": "code",
   "execution_count": 8,
   "metadata": {
    "ExecuteTime": {
     "end_time": "2021-12-14T10:42:28.759458Z",
     "start_time": "2021-12-14T10:42:28.694057Z"
    },
    "colab": {
     "base_uri": "https://localhost:8080/"
    },
    "id": "yKLFpASYMLQM",
    "outputId": "c9a5e945-fe52-443a-832f-7ee1668737a2"
   },
   "outputs": [
    {
     "name": "stdout",
     "output_type": "stream",
     "text": [
      "tf.Tensor(\n",
      "[b'in the box room, is the lamp turning on.'\n",
      " b'does the tv in the nursery turn on.'\n",
      " b'does the dvd in the pantry turn on.'\n",
      " b'What is the current fan level in the utility room.'\n",
      " b'in the garage, is the clock turning on.'], shape=(5,), dtype=string)\n",
      "\n",
      "tf.Tensor(\n",
      "[b'pull (device.hasState.isOn) define entity device is from smarthome where device.deviceName = \"lamp\" and  device.isIn.buildingenvironment = \"box room\"'\n",
      " b'pull (device.hasState.isOn) define entity device is from smarthome where device.deviceName = \"tv\" and  device.isIn.buildingenvironment = \"nursery\"'\n",
      " b'pull (device.hasState.isOn) define entity device is from smarthome where device.deviceName = \"dvd\" and  device.isIn.buildingenvironment = \"pantry\"'\n",
      " b'pull (device.stateValue) define entity device is from smarthome where device.hasState.isOn = true and device.deviceName = \"fan\" and device.isIn.buildingenvironment = \"utility room\"'\n",
      " b'pull (device.hasState.isOn) define entity device is from smarthome where device.deviceName = \"clock\" and  device.isIn.buildingenvironment = \"garage\"'], shape=(5,), dtype=string)\n"
     ]
    }
   ],
   "source": [
    "use_builtins = True\n",
    "BUFFER_SIZE = len(data)\n",
    "BATCH_SIZE = 64\n",
    "\n",
    "dataset = tf.data.Dataset.from_tensor_slices((data[\"text\"], data[\"query\"])).shuffle(BUFFER_SIZE)\n",
    "dataset = dataset.batch(BATCH_SIZE)\n",
    "for example_input_batch, example_target_batch in dataset.take(1):\n",
    "  print(example_input_batch[:5])\n",
    "  print()\n",
    "  print(example_target_batch[:5])\n",
    "  break"
   ]
  },
  {
   "cell_type": "code",
   "execution_count": 9,
   "metadata": {
    "ExecuteTime": {
     "end_time": "2021-12-14T10:42:28.934058Z",
     "start_time": "2021-12-14T10:42:28.928959Z"
    },
    "id": "8NMwpFirM1L-"
   },
   "outputs": [],
   "source": [
    "import requests\n",
    "def get_result(query):\n",
    "  url = \"http://206.12.91.26:8070/CASM-2.0.1/api/query\"\n",
    "  headers = {\n",
    "    'Content-Type': 'text/plain'\n",
    "  }\n",
    "  response = requests.request(\"POST\", url, headers=headers, data=query).json()[\"device\"]\n",
    "  result = response[\"results\"]\n",
    "  return result "
   ]
  },
  {
   "cell_type": "code",
   "execution_count": 10,
   "metadata": {
    "ExecuteTime": {
     "end_time": "2021-12-14T10:42:29.823281Z",
     "start_time": "2021-12-14T10:42:29.318952Z"
    },
    "colab": {
     "base_uri": "https://localhost:8080/"
    },
    "id": "5DIho60nOnyf",
    "outputId": "b82e277c-fcf6-4795-e99b-0f0b6902ae16"
   },
   "outputs": [
    {
     "data": {
      "text/plain": [
       "[{'unitMeasurement': 'luminous level',\n",
       "  'stateValue': 35,\n",
       "  '_id': {'$oid': '61b86599a87f0e298b33e623'},\n",
       "  'id': 'light 1',\n",
       "  'hasState': {'isOn': True},\n",
       "  'deviceName': 'light',\n",
       "  'isIn': {'buildingenvironment': 'bedroom'},\n",
       "  'ts': 1639474675575}]"
      ]
     },
     "execution_count": 10,
     "metadata": {},
     "output_type": "execute_result"
    }
   ],
   "source": [
    "text = \"is the light in the edroom turning on?\"\n",
    "payload = 'pull (device.hasState.isOn) define entity device is from smarthome where device.deviceName = \"light\" and  device.isIn.buildingenvironment = \"bedroom\"'\n",
    "get_result(payload)"
   ]
  },
  {
   "cell_type": "markdown",
   "metadata": {
    "id": "BaRUarTQMMoP"
   },
   "source": [
    "#Data Processing"
   ]
  },
  {
   "cell_type": "code",
   "execution_count": 11,
   "metadata": {
    "ExecuteTime": {
     "end_time": "2021-12-14T10:42:30.197317Z",
     "start_time": "2021-12-14T10:42:30.193266Z"
    },
    "id": "3pTFCVEyMRDx"
   },
   "outputs": [],
   "source": [
    "def tf_lower_and_split_punct(text):\n",
    "  # Split accecented characters.\n",
    "  text = tf_text.normalize_utf8(text, 'NFKD')\n",
    "  text = tf.strings.lower(text)\n",
    "  # Keep space, a to z, and select punctuation.\n",
    "  text = tf.strings.regex_replace(text, '\\(\\)[^ a-z.?!,¿=\"]', '')\n",
    "  # Add spaces around punctuation.\n",
    "  #text = tf.strings.regex_replace(text, '[?!,¿]', r' \\0 ')\n",
    "  # Strip whitespace.\n",
    "  text = tf.strings.strip(text)\n",
    "\n",
    "  text = tf.strings.join(['[START]', text, '[END]'], separator=' ')\n",
    "  return text\n"
   ]
  },
  {
   "cell_type": "code",
   "execution_count": 12,
   "metadata": {
    "ExecuteTime": {
     "end_time": "2021-12-14T10:42:30.812178Z",
     "start_time": "2021-12-14T10:42:30.477568Z"
    },
    "id": "B5SZOcjcMuAQ"
   },
   "outputs": [],
   "source": [
    "max_vocab_size = 5000\n",
    "\n",
    "input_text_processor = tf.keras.layers.TextVectorization(\n",
    "    standardize=tf_lower_and_split_punct,\n",
    "    max_tokens=max_vocab_size)\n",
    "input_text_processor.adapt(data[\"text\"])"
   ]
  },
  {
   "cell_type": "code",
   "execution_count": 13,
   "metadata": {
    "ExecuteTime": {
     "end_time": "2021-12-14T10:42:31.012371Z",
     "start_time": "2021-12-14T10:42:30.841296Z"
    },
    "id": "ktOev9tBM_tv"
   },
   "outputs": [],
   "source": [
    "output_text_processor = tf.keras.layers.TextVectorization(\n",
    "    standardize=tf_lower_and_split_punct,\n",
    "    max_tokens=max_vocab_size)\n",
    "output_text_processor.adapt(data[\"query\"])\n"
   ]
  },
  {
   "cell_type": "code",
   "execution_count": 14,
   "metadata": {
    "ExecuteTime": {
     "end_time": "2021-12-14T10:42:31.043938Z",
     "start_time": "2021-12-14T10:42:31.041875Z"
    },
    "id": "z0fUYIc1OGJt"
   },
   "outputs": [],
   "source": [
    "embedding_dim = 256\n",
    "units = 1024"
   ]
  },
  {
   "cell_type": "code",
   "execution_count": 15,
   "metadata": {
    "ExecuteTime": {
     "end_time": "2021-12-14T10:42:31.181721Z",
     "start_time": "2021-12-14T10:42:31.174701Z"
    },
    "id": "33w4ARmDOVGD"
   },
   "outputs": [],
   "source": [
    "class ShapeChecker():\n",
    "  def __init__(self):\n",
    "    # Keep a cache of every axis-name seen\n",
    "    self.shapes = {}\n",
    "\n",
    "  def __call__(self, tensor, names, broadcast=False):\n",
    "    if not tf.executing_eagerly():\n",
    "      return\n",
    "\n",
    "    if isinstance(names, str):\n",
    "      names = (names,)\n",
    "\n",
    "    shape = tf.shape(tensor)\n",
    "    rank = tf.rank(tensor)\n",
    "\n",
    "    if rank != len(names):\n",
    "      raise ValueError(f'Rank mismatch:\\n'\n",
    "                       f'    found {rank}: {shape.numpy()}\\n'\n",
    "                       f'    expected {len(names)}: {names}\\n')\n",
    "\n",
    "    for i, name in enumerate(names):\n",
    "      if isinstance(name, int):\n",
    "        old_dim = name\n",
    "      else:\n",
    "        old_dim = self.shapes.get(name, None)\n",
    "      new_dim = shape[i]\n",
    "\n",
    "      if (broadcast and new_dim == 1):\n",
    "        continue\n",
    "\n",
    "      if old_dim is None:\n",
    "        # If the axis name is new, add its length to the cache.\n",
    "        self.shapes[name] = new_dim\n",
    "        continue\n",
    "\n",
    "      if new_dim != old_dim:\n",
    "        raise ValueError(f\"Shape mismatch for dimension: '{name}'\\n\"\n",
    "                         f\"    found: {new_dim}\\n\"\n",
    "                         f\"    expected: {old_dim}\\n\")"
   ]
  },
  {
   "cell_type": "code",
   "execution_count": 16,
   "metadata": {
    "ExecuteTime": {
     "end_time": "2021-12-14T10:42:31.410277Z",
     "start_time": "2021-12-14T10:42:31.400821Z"
    },
    "id": "3ppuFBWBOJa9"
   },
   "outputs": [],
   "source": [
    "class Encoder(tf.keras.layers.Layer):\n",
    "  def __init__(self, input_vocab_size, embedding_dim, enc_units):\n",
    "    super(Encoder, self).__init__()\n",
    "    self.enc_units = enc_units\n",
    "    self.input_vocab_size = input_vocab_size\n",
    "\n",
    "    # The embedding layer converts tokens to vectors\n",
    "    self.embedding = tf.keras.layers.Embedding(self.input_vocab_size,\n",
    "                                               embedding_dim)\n",
    "\n",
    "    # The GRU RNN layer processes those vectors sequentially.\n",
    "    self.gru = tf.keras.layers.GRU(self.enc_units,\n",
    "                                   # Return the sequence and state\n",
    "                                   return_sequences=True,\n",
    "                                   return_state=True,\n",
    "                                   recurrent_initializer='glorot_uniform')\n",
    "\n",
    "  def call(self, tokens, state=None):\n",
    "    shape_checker = ShapeChecker()\n",
    "    shape_checker(tokens, ('batch', 's'))\n",
    "\n",
    "    # 2. The embedding layer looks up the embedding for each token.\n",
    "    vectors = self.embedding(tokens)\n",
    "    shape_checker(vectors, ('batch', 's', 'embed_dim'))\n",
    "\n",
    "    # 3. The GRU processes the embedding sequence.\n",
    "    #    output shape: (batch, s, enc_units)\n",
    "    #    state shape: (batch, enc_units)\n",
    "    output, state = self.gru(vectors, initial_state=state)\n",
    "    shape_checker(output, ('batch', 's', 'enc_units'))\n",
    "    shape_checker(state, ('batch', 'enc_units'))\n",
    "\n",
    "    # 4. Returns the new sequence and its state.\n",
    "    return output, state"
   ]
  },
  {
   "cell_type": "code",
   "execution_count": 17,
   "metadata": {
    "ExecuteTime": {
     "end_time": "2021-12-14T10:42:31.650175Z",
     "start_time": "2021-12-14T10:42:31.642455Z"
    },
    "id": "ZWd2GrayOgwg"
   },
   "outputs": [],
   "source": [
    "class BahdanauAttention(tf.keras.layers.Layer):\n",
    "  def __init__(self, units):\n",
    "    super().__init__()\n",
    "    # For Eqn. (4), the  Bahdanau attention\n",
    "    self.W1 = tf.keras.layers.Dense(units, use_bias=False)\n",
    "    self.W2 = tf.keras.layers.Dense(units, use_bias=False)\n",
    "\n",
    "    self.attention = tf.keras.layers.AdditiveAttention()\n",
    "\n",
    "  def call(self, query, value, mask):\n",
    "    shape_checker = ShapeChecker()\n",
    "    shape_checker(query, ('batch', 't', 'query_units'))\n",
    "    shape_checker(value, ('batch', 's', 'value_units'))\n",
    "    shape_checker(mask, ('batch', 's'))\n",
    "\n",
    "    # From Eqn. (4), `W1@ht`.\n",
    "    w1_query = self.W1(query)\n",
    "    shape_checker(w1_query, ('batch', 't', 'attn_units'))\n",
    "\n",
    "    # From Eqn. (4), `W2@hs`.\n",
    "    w2_key = self.W2(value)\n",
    "    shape_checker(w2_key, ('batch', 's', 'attn_units'))\n",
    "\n",
    "    query_mask = tf.ones(tf.shape(query)[:-1], dtype=bool)\n",
    "    value_mask = mask\n",
    "\n",
    "    context_vector, attention_weights = self.attention(\n",
    "        inputs = [w1_query, value, w2_key],\n",
    "        mask=[query_mask, value_mask],\n",
    "        return_attention_scores = True,\n",
    "    )\n",
    "    shape_checker(context_vector, ('batch', 't', 'value_units'))\n",
    "    shape_checker(attention_weights, ('batch', 't', 's'))\n",
    "\n",
    "    return context_vector, attention_weights"
   ]
  },
  {
   "cell_type": "code",
   "execution_count": 18,
   "metadata": {
    "ExecuteTime": {
     "end_time": "2021-12-14T10:42:31.970126Z",
     "start_time": "2021-12-14T10:42:31.947264Z"
    },
    "id": "Cxe-A-cJO3ju"
   },
   "outputs": [
    {
     "ename": "NameError",
     "evalue": "name 'typing' is not defined",
     "output_type": "error",
     "traceback": [
      "\u001b[0;31m---------------------------------------------------------------------------\u001b[0m",
      "\u001b[0;31mNameError\u001b[0m                                 Traceback (most recent call last)",
      "\u001b[0;32m<ipython-input-18-1b741b3b7126>\u001b[0m in \u001b[0;36m<module>\u001b[0;34m\u001b[0m\n\u001b[0;32m----> 1\u001b[0;31m \u001b[0;32mclass\u001b[0m \u001b[0mDecoderInput\u001b[0m\u001b[0;34m(\u001b[0m\u001b[0mtyping\u001b[0m\u001b[0;34m.\u001b[0m\u001b[0mNamedTuple\u001b[0m\u001b[0;34m)\u001b[0m\u001b[0;34m:\u001b[0m\u001b[0;34m\u001b[0m\u001b[0;34m\u001b[0m\u001b[0m\n\u001b[0m\u001b[1;32m      2\u001b[0m   \u001b[0mnew_tokens\u001b[0m\u001b[0;34m:\u001b[0m \u001b[0mAny\u001b[0m\u001b[0;34m\u001b[0m\u001b[0;34m\u001b[0m\u001b[0m\n\u001b[1;32m      3\u001b[0m   \u001b[0menc_output\u001b[0m\u001b[0;34m:\u001b[0m \u001b[0mAny\u001b[0m\u001b[0;34m\u001b[0m\u001b[0;34m\u001b[0m\u001b[0m\n\u001b[1;32m      4\u001b[0m   \u001b[0mmask\u001b[0m\u001b[0;34m:\u001b[0m \u001b[0mAny\u001b[0m\u001b[0;34m\u001b[0m\u001b[0;34m\u001b[0m\u001b[0m\n\u001b[1;32m      5\u001b[0m \u001b[0;34m\u001b[0m\u001b[0m\n",
      "\u001b[0;31mNameError\u001b[0m: name 'typing' is not defined"
     ]
    }
   ],
   "source": [
    "class DecoderInput(typing.NamedTuple):\n",
    "  new_tokens: Any\n",
    "  enc_output: Any\n",
    "  mask: Any\n",
    "\n",
    "class DecoderOutput(typing.NamedTuple):\n",
    "  logits: Any\n",
    "  attention_weights: Any\n",
    "\n",
    "class Decoder(tf.keras.layers.Layer):\n",
    "  def __init__(self, output_vocab_size, embedding_dim, dec_units):\n",
    "    super(Decoder, self).__init__()\n",
    "    self.dec_units = dec_units\n",
    "    self.output_vocab_size = output_vocab_size\n",
    "    self.embedding_dim = embedding_dim\n",
    "\n",
    "    self.embedding = tf.keras.layers.Embedding(self.output_vocab_size,\n",
    "                                               embedding_dim)\n",
    "\n",
    "    self.gru = tf.keras.layers.GRU(self.dec_units,\n",
    "                                   return_sequences=True,\n",
    "                                   return_state=True,\n",
    "                                   recurrent_initializer='glorot_uniform')\n",
    "\n",
    "    self.attention = BahdanauAttention(self.dec_units)\n",
    "\n",
    "    self.Wc = tf.keras.layers.Dense(dec_units, activation=tf.math.tanh,\n",
    "                                    use_bias=False)\n",
    "\n",
    "    self.fc = tf.keras.layers.Dense(self.output_vocab_size)\n",
    "  def call(self,\n",
    "         inputs: DecoderInput,\n",
    "         state=None) -> Tuple[DecoderOutput, tf.Tensor]:\n",
    "    shape_checker = ShapeChecker()\n",
    "    shape_checker(inputs.new_tokens, ('batch', 't'))\n",
    "    shape_checker(inputs.enc_output, ('batch', 's', 'enc_units'))\n",
    "    shape_checker(inputs.mask, ('batch', 's'))\n",
    "\n",
    "    if state is not None:\n",
    "      shape_checker(state, ('batch', 'dec_units'))\n",
    "\n",
    "    vectors = self.embedding(inputs.new_tokens)\n",
    "    shape_checker(vectors, ('batch', 't', 'embedding_dim'))\n",
    "\n",
    "    rnn_output, state = self.gru(vectors, initial_state=state)\n",
    "\n",
    "    shape_checker(rnn_output, ('batch', 't', 'dec_units'))\n",
    "    shape_checker(state, ('batch', 'dec_units'))\n",
    "\n",
    "    context_vector, attention_weights = self.attention(\n",
    "        query=rnn_output, value=inputs.enc_output, mask=inputs.mask)\n",
    "    shape_checker(context_vector, ('batch', 't', 'dec_units'))\n",
    "    shape_checker(attention_weights, ('batch', 't', 's'))\n",
    "\n",
    "    context_and_rnn_output = tf.concat([context_vector, rnn_output], axis=-1)\n",
    "\n",
    "    attention_vector = self.Wc(context_and_rnn_output)\n",
    "    shape_checker(attention_vector, ('batch', 't', 'dec_units'))\n",
    "    logits = self.fc(attention_vector)\n",
    "    shape_checker(logits, ('batch', 't', 'output_vocab_size'))\n",
    "\n",
    "    return DecoderOutput(logits, attention_weights), state"
   ]
  },
  {
   "cell_type": "code",
   "execution_count": 19,
   "metadata": {
    "ExecuteTime": {
     "end_time": "2021-12-14T10:42:32.194389Z",
     "start_time": "2021-12-14T10:42:32.173556Z"
    },
    "id": "Q--80mxrPTBD"
   },
   "outputs": [],
   "source": [
    "class TrainTranslator(tf.keras.Model):\n",
    "  def __init__(self, embedding_dim, units,\n",
    "               input_text_processor,\n",
    "               output_text_processor, \n",
    "               use_tf_function=True):\n",
    "    super().__init__()\n",
    "    # Build the encoder and decoder\n",
    "    encoder = Encoder(input_text_processor.vocabulary_size(),\n",
    "                      embedding_dim, units)\n",
    "    decoder = Decoder(output_text_processor.vocabulary_size(),\n",
    "                      embedding_dim, units)\n",
    "\n",
    "    self.encoder = encoder\n",
    "    self.decoder = decoder\n",
    "    self.input_text_processor = input_text_processor\n",
    "    self.output_text_processor = output_text_processor\n",
    "    self.use_tf_function = use_tf_function\n",
    "    self.shape_checker = ShapeChecker()\n",
    "\n",
    "  def train_step(self, inputs):\n",
    "    self.shape_checker = ShapeChecker()\n",
    "    if self.use_tf_function:\n",
    "      return self._tf_train_step(inputs)\n",
    "    else:\n",
    "      return self._train_step(inputs)\n",
    "  def _preprocess(self, input_text, target_text):\n",
    "    self.shape_checker(input_text, ('batch',))\n",
    "    self.shape_checker(target_text, ('batch',))\n",
    "\n",
    "    # Convert the text to token IDs\n",
    "    input_tokens = self.input_text_processor(input_text)\n",
    "    target_tokens = self.output_text_processor(target_text)\n",
    "    self.shape_checker(input_tokens, ('batch', 's'))\n",
    "    self.shape_checker(target_tokens, ('batch', 't'))\n",
    "\n",
    "    # Convert IDs to masks.\n",
    "    input_mask = input_tokens != 0\n",
    "    self.shape_checker(input_mask, ('batch', 's'))\n",
    "\n",
    "    target_mask = target_tokens != 0\n",
    "    self.shape_checker(target_mask, ('batch', 't'))\n",
    "\n",
    "    return input_tokens, input_mask, target_tokens, target_mask\n",
    "  def _train_step(self, inputs):\n",
    "    input_text, target_text = inputs  \n",
    "\n",
    "    (input_tokens, input_mask,\n",
    "    target_tokens, target_mask) = self._preprocess(input_text, target_text)\n",
    "\n",
    "    max_target_length = tf.shape(target_tokens)[1]\n",
    "\n",
    "    with tf.GradientTape() as tape:\n",
    "      enc_output, enc_state = self.encoder(input_tokens)\n",
    "      self.shape_checker(enc_output, ('batch', 's', 'enc_units'))\n",
    "      self.shape_checker(enc_state, ('batch', 'enc_units'))\n",
    "\n",
    "      dec_state = enc_state\n",
    "      loss = tf.constant(0.0)\n",
    "\n",
    "      for t in tf.range(max_target_length-1):\n",
    "        new_tokens = target_tokens[:, t:t+2]\n",
    "        step_loss, dec_state = self._loop_step(new_tokens, input_mask,\n",
    "                                              enc_output, dec_state)\n",
    "        loss = loss + step_loss\n",
    "      average_loss = loss / tf.reduce_sum(tf.cast(target_mask, tf.float32))\n",
    "\n",
    "    variables = self.trainable_variables \n",
    "    gradients = tape.gradient(average_loss, variables)\n",
    "    self.optimizer.apply_gradients(zip(gradients, variables))\n",
    "\n",
    "    return {'batch_loss': average_loss}\n",
    "  def _loop_step(self, new_tokens, input_mask, enc_output, dec_state):\n",
    "    input_token, target_token = new_tokens[:, 0:1], new_tokens[:, 1:2]\n",
    "\n",
    "    decoder_input = DecoderInput(new_tokens=input_token,\n",
    "                                enc_output=enc_output,\n",
    "                                mask=input_mask)\n",
    "\n",
    "    dec_result, dec_state = self.decoder(decoder_input, state=dec_state)\n",
    "    self.shape_checker(dec_result.logits, ('batch', 't1', 'logits'))\n",
    "    self.shape_checker(dec_result.attention_weights, ('batch', 't1', 's'))\n",
    "    self.shape_checker(dec_state, ('batch', 'dec_units'))\n",
    "\n",
    "    y = target_token\n",
    "    y_pred = dec_result.logits\n",
    "    step_loss = self.loss(y, y_pred)\n",
    "\n",
    "    return step_loss, dec_state\n",
    "  \n",
    "  @tf.function(input_signature=[[tf.TensorSpec(dtype=tf.string, shape=[None]),\n",
    "                               tf.TensorSpec(dtype=tf.string, shape=[None])]])\n",
    "  def _tf_train_step(self, inputs):\n",
    "    return self._train_step(inputs)"
   ]
  },
  {
   "cell_type": "code",
   "execution_count": 20,
   "metadata": {
    "ExecuteTime": {
     "end_time": "2021-12-14T10:42:32.418529Z",
     "start_time": "2021-12-14T10:42:32.412594Z"
    },
    "id": "Jqd8IlLEPRQs"
   },
   "outputs": [],
   "source": [
    "class MaskedLoss(tf.keras.losses.Loss):\n",
    "  def __init__(self):\n",
    "    self.name = 'masked_loss'\n",
    "    self.loss = tf.keras.losses.SparseCategoricalCrossentropy(\n",
    "        from_logits=True, reduction='none')\n",
    "\n",
    "  def __call__(self, y_true, y_pred):\n",
    "    shape_checker = ShapeChecker()\n",
    "    shape_checker(y_true, ('batch', 't'))\n",
    "    shape_checker(y_pred, ('batch', 't', 'logits'))\n",
    "\n",
    "    # Calculate the loss for each item in the batch.\n",
    "    loss = self.loss(y_true, y_pred)\n",
    "    shape_checker(loss, ('batch', 't'))\n",
    "\n",
    "    # Mask off the losses on padding.\n",
    "    mask = tf.cast(y_true != 0, tf.float32)\n",
    "    shape_checker(mask, ('batch', 't'))\n",
    "    loss *= mask\n",
    "\n",
    "    # Return the total.\n",
    "    return tf.reduce_sum(loss)"
   ]
  },
  {
   "cell_type": "code",
   "execution_count": 21,
   "metadata": {
    "ExecuteTime": {
     "end_time": "2021-12-14T10:42:32.873550Z",
     "start_time": "2021-12-14T10:42:32.841524Z"
    },
    "id": "aFziloPWQRAE"
   },
   "outputs": [
    {
     "ename": "NameError",
     "evalue": "name 'Decoder' is not defined",
     "output_type": "error",
     "traceback": [
      "\u001b[0;31m---------------------------------------------------------------------------\u001b[0m",
      "\u001b[0;31mNameError\u001b[0m                                 Traceback (most recent call last)",
      "\u001b[0;32m<ipython-input-21-8e55054ce425>\u001b[0m in \u001b[0;36m<module>\u001b[0;34m\u001b[0m\n\u001b[0;32m----> 1\u001b[0;31m train_translator = TrainTranslator(\n\u001b[0m\u001b[1;32m      2\u001b[0m     \u001b[0membedding_dim\u001b[0m\u001b[0;34m,\u001b[0m \u001b[0munits\u001b[0m\u001b[0;34m,\u001b[0m\u001b[0;34m\u001b[0m\u001b[0;34m\u001b[0m\u001b[0m\n\u001b[1;32m      3\u001b[0m     \u001b[0minput_text_processor\u001b[0m\u001b[0;34m=\u001b[0m\u001b[0minput_text_processor\u001b[0m\u001b[0;34m,\u001b[0m\u001b[0;34m\u001b[0m\u001b[0;34m\u001b[0m\u001b[0m\n\u001b[1;32m      4\u001b[0m     output_text_processor=output_text_processor)\n\u001b[1;32m      5\u001b[0m \u001b[0;34m\u001b[0m\u001b[0m\n",
      "\u001b[0;32m<ipython-input-19-0a8846ebc1f2>\u001b[0m in \u001b[0;36m__init__\u001b[0;34m(self, embedding_dim, units, input_text_processor, output_text_processor, use_tf_function)\u001b[0m\n\u001b[1;32m      8\u001b[0m     encoder = Encoder(input_text_processor.vocabulary_size(),\n\u001b[1;32m      9\u001b[0m                       embedding_dim, units)\n\u001b[0;32m---> 10\u001b[0;31m     decoder = Decoder(output_text_processor.vocabulary_size(),\n\u001b[0m\u001b[1;32m     11\u001b[0m                       embedding_dim, units)\n\u001b[1;32m     12\u001b[0m \u001b[0;34m\u001b[0m\u001b[0m\n",
      "\u001b[0;31mNameError\u001b[0m: name 'Decoder' is not defined"
     ]
    }
   ],
   "source": [
    "train_translator = TrainTranslator(\n",
    "    embedding_dim, units,\n",
    "    input_text_processor=input_text_processor,\n",
    "    output_text_processor=output_text_processor)\n",
    "\n",
    "# Configure the loss and optimizer\n",
    "train_translator.compile(\n",
    "    optimizer=tf.optimizers.Adam(),\n",
    "    loss=MaskedLoss(),\n",
    ")"
   ]
  },
  {
   "cell_type": "code",
   "execution_count": 22,
   "metadata": {
    "ExecuteTime": {
     "end_time": "2021-12-14T10:42:33.066446Z",
     "start_time": "2021-12-14T10:42:33.061233Z"
    },
    "id": "k04nakkXQGlE"
   },
   "outputs": [],
   "source": [
    "class BatchLogs(tf.keras.callbacks.Callback):\n",
    "  def __init__(self, key):\n",
    "    self.key = key\n",
    "    self.logs = []\n",
    "\n",
    "  def on_train_batch_end(self, n, logs):\n",
    "    self.logs.append(logs[self.key])\n",
    "\n",
    "batch_loss = BatchLogs('batch_loss')"
   ]
  },
  {
   "cell_type": "code",
   "execution_count": null,
   "metadata": {
    "colab": {
     "base_uri": "https://localhost:8080/"
    },
    "id": "oGX3j1hTQJeE",
    "outputId": "d33f7d54-b38a-44d4-9a55-ae9cf7bd3581"
   },
   "outputs": [
    {
     "name": "stdout",
     "output_type": "stream",
     "text": [
      "Epoch 1/30\n",
      "70/70 [==============================] - 42s 456ms/step - batch_loss: 1.0273\n",
      "Epoch 2/30\n",
      "70/70 [==============================] - 32s 453ms/step - batch_loss: 0.3271\n",
      "Epoch 3/30\n",
      "70/70 [==============================] - 32s 453ms/step - batch_loss: 0.2827\n",
      "Epoch 4/30\n",
      "70/70 [==============================] - 32s 451ms/step - batch_loss: 0.2632\n",
      "Epoch 5/30\n",
      "70/70 [==============================] - 31s 445ms/step - batch_loss: 0.1605\n",
      "Epoch 6/30\n",
      "70/70 [==============================] - 31s 448ms/step - batch_loss: 0.0458\n",
      "Epoch 7/30\n",
      "70/70 [==============================] - 32s 451ms/step - batch_loss: 0.0019\n",
      "Epoch 8/30\n",
      "70/70 [==============================] - 32s 451ms/step - batch_loss: 5.0369e-04\n",
      "Epoch 9/30\n",
      "70/70 [==============================] - 31s 450ms/step - batch_loss: 3.1066e-04\n",
      "Epoch 10/30\n",
      "70/70 [==============================] - 32s 452ms/step - batch_loss: 2.2053e-04\n",
      "Epoch 11/30\n",
      "70/70 [==============================] - 32s 452ms/step - batch_loss: 1.6739e-04\n",
      "Epoch 12/30\n",
      "70/70 [==============================] - 32s 452ms/step - batch_loss: 1.3305e-04\n",
      "Epoch 13/30\n",
      "70/70 [==============================] - 32s 451ms/step - batch_loss: 1.0901e-04\n",
      "Epoch 14/30\n",
      "70/70 [==============================] - 32s 451ms/step - batch_loss: 9.1667e-05\n",
      "Epoch 15/30\n",
      "70/70 [==============================] - 32s 452ms/step - batch_loss: 7.7881e-05\n",
      "Epoch 16/30\n",
      "70/70 [==============================] - 32s 452ms/step - batch_loss: 6.7097e-05\n",
      "Epoch 17/30\n",
      "70/70 [==============================] - 31s 448ms/step - batch_loss: 5.8567e-05\n",
      "Epoch 18/30\n",
      "70/70 [==============================] - 32s 456ms/step - batch_loss: 5.1839e-05\n",
      "Epoch 19/30\n",
      "70/70 [==============================] - 32s 451ms/step - batch_loss: 4.6050e-05\n",
      "Epoch 20/30\n",
      "70/70 [==============================] - 32s 451ms/step - batch_loss: 4.1196e-05\n",
      "Epoch 21/30\n",
      "70/70 [==============================] - 32s 450ms/step - batch_loss: 3.7182e-05\n",
      "Epoch 22/30\n",
      "70/70 [==============================] - 32s 454ms/step - batch_loss: 3.3465e-05\n",
      "Epoch 23/30\n",
      "70/70 [==============================] - 32s 452ms/step - batch_loss: 3.0515e-05\n",
      "Epoch 24/30\n",
      "70/70 [==============================] - 32s 452ms/step - batch_loss: 2.7742e-05\n",
      "Epoch 25/30\n",
      "70/70 [==============================] - 32s 455ms/step - batch_loss: 2.5614e-05\n",
      "Epoch 26/30\n",
      "70/70 [==============================] - 32s 452ms/step - batch_loss: 2.3689e-05\n",
      "Epoch 27/30\n",
      "70/70 [==============================] - 32s 455ms/step - batch_loss: 2.1696e-05\n",
      "Epoch 28/30\n",
      "70/70 [==============================] - 32s 456ms/step - batch_loss: 2.0109e-05\n",
      "Epoch 29/30\n",
      "70/70 [==============================] - 32s 454ms/step - batch_loss: 1.8538e-05\n",
      "Epoch 30/30\n",
      "70/70 [==============================] - 32s 454ms/step - batch_loss: 1.7263e-05\n"
     ]
    }
   ],
   "source": [
    "training_history = train_translator.fit(dataset,\n",
    "                                        epochs=30,\n",
    "                                        callbacks=[batch_loss])"
   ]
  },
  {
   "cell_type": "code",
   "execution_count": null,
   "metadata": {
    "colab": {
     "base_uri": "https://localhost:8080/",
     "height": 420
    },
    "id": "xMEgud8uTzUk",
    "outputId": "d2adce95-87c7-4a76-d0c7-8c053fb3a303"
   },
   "outputs": [
    {
     "data": {
      "text/plain": [
       "(<Figure size 360x360 with 1 Axes>,\n",
       " <matplotlib.axes._subplots.AxesSubplot at 0x7fbaa66d2a90>)"
      ]
     },
     "execution_count": 26,
     "metadata": {},
     "output_type": "execute_result"
    },
    {
     "data": {
      "image/png": "[encoded data removed]",
      "text/plain": [
       "<Figure size 360x360 with 1 Axes>"
      ]
     },
     "metadata": {
      "needs_background": "light"
     },
     "output_type": "display_data"
    }
   ],
   "source": [
    "from plot_keras_history import plot_history\n",
    "import matplotlib.pyplot as plt\n",
    "plot_history(training_history)"
   ]
  },
  {
   "cell_type": "code",
   "execution_count": null,
   "metadata": {
    "colab": {
     "base_uri": "https://localhost:8080/",
     "height": 296
    },
    "id": "c8MLF24cQTEE",
    "outputId": "470c88f7-791b-4694-cbc2-a2329775f7f9"
   },
   "outputs": [
    {
     "data": {
      "text/plain": [
       "Text(0, 0.5, 'Batch loss')"
      ]
     },
     "execution_count": 27,
     "metadata": {},
     "output_type": "execute_result"
    },
    {
     "data": {
      "image/png": "[encoded data removed]",
      "text/plain": [
       "<Figure size 432x288 with 1 Axes>"
      ]
     },
     "metadata": {
      "needs_background": "light"
     },
     "output_type": "display_data"
    }
   ],
   "source": [
    "plt.plot(batch_loss.logs)\n",
    "plt.xlabel('Batch #')\n",
    "plt.ylabel('Batch loss')"
   ]
  },
  {
   "cell_type": "markdown",
   "metadata": {
    "id": "gN7Bn_yQlouT"
   },
   "source": [
    "# Extract and save the model"
   ]
  },
  {
   "cell_type": "code",
   "execution_count": null,
   "metadata": {
    "id": "D3CSfZukQ10A"
   },
   "outputs": [],
   "source": [
    "class Translator(tf.Module):\n",
    "\n",
    "  def __init__(self, encoder, decoder, input_text_processor,\n",
    "               output_text_processor):\n",
    "    self.encoder = encoder\n",
    "    self.decoder = decoder\n",
    "    self.input_text_processor = input_text_processor\n",
    "    self.output_text_processor = output_text_processor\n",
    "\n",
    "    self.output_token_string_from_index = (\n",
    "        tf.keras.layers.StringLookup(\n",
    "            vocabulary=output_text_processor.get_vocabulary(),\n",
    "            mask_token='',\n",
    "            invert=True))\n",
    "\n",
    "    # The output should never generate padding, unknown, or start.\n",
    "    index_from_string = tf.keras.layers.StringLookup(\n",
    "        vocabulary=output_text_processor.get_vocabulary(), mask_token='')\n",
    "    token_mask_ids = index_from_string(['', '[UNK]', '[START]']).numpy()\n",
    "\n",
    "    token_mask = np.zeros([index_from_string.vocabulary_size()], dtype=np.bool)\n",
    "    token_mask[np.array(token_mask_ids)] = True\n",
    "    self.token_mask = token_mask\n",
    "\n",
    "    self.start_token = index_from_string(tf.constant('[START]'))\n",
    "    self.end_token = index_from_string(tf.constant('[END]'))\n",
    "  def tokens_to_text(self, result_tokens):\n",
    "    shape_checker = ShapeChecker()\n",
    "    shape_checker(result_tokens, ('batch', 't'))\n",
    "    result_text_tokens = self.output_token_string_from_index(result_tokens)\n",
    "    shape_checker(result_text_tokens, ('batch', 't'))\n",
    "\n",
    "    result_text = tf.strings.reduce_join(result_text_tokens,\n",
    "                                        axis=1, separator=' ')\n",
    "    shape_checker(result_text, ('batch'))\n",
    "\n",
    "    result_text = tf.strings.strip(result_text)\n",
    "    shape_checker(result_text, ('batch',))\n",
    "    return result_text\n",
    "  def translate(self,input_text, *,\n",
    "                max_length=50,\n",
    "                return_attention=True,\n",
    "                temperature=1.0):\n",
    "    batch_size = tf.shape(input_text)[0]\n",
    "    input_tokens = self.input_text_processor(input_text)\n",
    "    enc_output, enc_state = self.encoder(input_tokens)\n",
    "\n",
    "    dec_state = enc_state\n",
    "    new_tokens = tf.fill([batch_size, 1], self.start_token)\n",
    "\n",
    "    result_tokens = []\n",
    "    attention = []\n",
    "    done = tf.zeros([batch_size, 1], dtype=tf.bool)\n",
    "\n",
    "    for _ in range(max_length):\n",
    "      dec_input = DecoderInput(new_tokens=new_tokens,\n",
    "                              enc_output=enc_output,\n",
    "                              mask=(input_tokens!=0))\n",
    "\n",
    "      dec_result, dec_state = self.decoder(dec_input, state=dec_state)\n",
    "\n",
    "      attention.append(dec_result.attention_weights)\n",
    "\n",
    "      new_tokens = self.sample(dec_result.logits, temperature)\n",
    "\n",
    "      # If a sequence produces an `end_token`, set it `done`\n",
    "      done = done | (new_tokens == self.end_token)\n",
    "      # Once a sequence is done it only produces 0-padding.\n",
    "      new_tokens = tf.where(done, tf.constant(0, dtype=tf.int64), new_tokens)\n",
    "\n",
    "      # Collect the generated tokens\n",
    "      result_tokens.append(new_tokens)\n",
    "\n",
    "      if tf.executing_eagerly() and tf.reduce_all(done):\n",
    "        break\n",
    "\n",
    "    # Convert the list of generates token ids to a list of strings.\n",
    "    result_tokens = tf.concat(result_tokens, axis=-1)\n",
    "    result_text = self.tokens_to_text(result_tokens)\n",
    "\n",
    "    if return_attention:\n",
    "      attention_stack = tf.concat(attention, axis=1)\n",
    "      return {'text': result_text, 'attention': attention_stack}\n",
    "    else:\n",
    "      return {'text': result_text}\n",
    "  def sample(self, logits, temperature):\n",
    "    shape_checker = ShapeChecker()\n",
    "    # 't' is usually 1 here.\n",
    "    shape_checker(logits, ('batch', 't', 'vocab'))\n",
    "    shape_checker(self.token_mask, ('vocab',))\n",
    "\n",
    "    token_mask = self.token_mask[tf.newaxis, tf.newaxis, :]\n",
    "    shape_checker(token_mask, ('batch', 't', 'vocab'), broadcast=True)\n",
    "\n",
    "    # Set the logits for all masked tokens to -inf, so they are never chosen.\n",
    "    logits = tf.where(self.token_mask, -np.inf, logits)\n",
    "\n",
    "    if temperature == 0.0:\n",
    "      new_tokens = tf.argmax(logits, axis=-1)\n",
    "    else: \n",
    "      logits = tf.squeeze(logits, axis=1)\n",
    "      new_tokens = tf.random.categorical(logits/temperature,\n",
    "                                          num_samples=1)\n",
    "\n",
    "    shape_checker(new_tokens, ('batch', 't'))\n",
    "\n",
    "    return new_tokens\n",
    "  @tf.function(input_signature=[tf.TensorSpec(dtype=tf.string, shape=[None])])\n",
    "  def tf_translate(self, input_text):\n",
    "    return self.translate(input_text)"
   ]
  },
  {
   "cell_type": "code",
   "execution_count": null,
   "metadata": {
    "id": "0YMJIzjKQ9TG"
   },
   "outputs": [],
   "source": [
    "translator = Translator(\n",
    "    encoder=train_translator.encoder,\n",
    "    decoder=train_translator.decoder,\n",
    "    input_text_processor=input_text_processor,\n",
    "    output_text_processor=output_text_processor,\n",
    ")\n"
   ]
  },
  {
   "cell_type": "code",
   "execution_count": null,
   "metadata": {
    "id": "jAgEplmwviP1"
   },
   "outputs": [],
   "source": [
    "def decode_query(output):\n",
    "  for i in range(len(lower_entities)):\n",
    "    output = output.replace(lower_entities[i], upper_entities[i])\n",
    "  return output"
   ]
  },
  {
   "cell_type": "code",
   "execution_count": null,
   "metadata": {
    "id": "eTigtCZthQmq"
   },
   "outputs": [],
   "source": [
    "lower_entities= [\"hasstate\", \"ison\", \"isin\", \"devicename\", \"statevalue\"]\n",
    "upper_entities= [\"hasState\", \"isOn\", \"isIn\", \"deviceName\", \"stateValue\"]"
   ]
  },
  {
   "cell_type": "code",
   "execution_count": null,
   "metadata": {
    "colab": {
     "base_uri": "https://localhost:8080/"
    },
    "id": "6rxy2FFYqXFg",
    "outputId": "4824b64f-b25b-43ff-9891-dd5343514356"
   },
   "outputs": [
    {
     "name": "stdout",
     "output_type": "stream",
     "text": [
      "tf.Tensor(b'give me the state of the light in the living room.', shape=(), dtype=string)\n",
      "pull (device.hasState.isOn) define entity device is from smarthome where device.deviceName = \"light\" and device.isIn.buildingenvironment = \"living room\"\n",
      "[{'unitMeasurement': 'luminous level', 'stateValue': 38, '_id': {'$oid': '61b74597a87f0e298b33e496'}, 'id': 'light 3', 'hasState': {'isOn': True}, 'deviceName': 'light', 'isIn': {'buildingenvironment': 'living room'}, 'ts': 1639361611137}]\n",
      "\n",
      "tf.Tensor(b'humidity at living room', shape=(), dtype=string)\n",
      "pull (device.stateValue) define entity device is from smarthome where device.hasState.isOn = true and device.deviceName = \"humidity\" and device.isIn.buildingenvironment = \"living room\"\n",
      "[{'unitMeasurement': 'percentage', 'stateValue': 15, '_id': {'$oid': '61b74588a87f0e298b33e48a'}, 'id': 'humid 3', 'hasState': {'isOn': True}, 'deviceName': 'humidity', 'isIn': {'buildingenvironment': 'living room'}, 'ts': 1639361607129}]\n",
      "\n",
      "tf.Tensor(b'humidity at dining room', shape=(), dtype=string)\n",
      "pull (device.stateValue) define entity device is from smarthome where device.hasState.isOn = true and device.deviceName = \"humidity\" and device.isIn.buildingenvironment = \"dining room\"\n",
      "[{'unitMeasurement': 'percentage', 'stateValue': 23, '_id': {'$oid': '61b74589a87f0e298b33e48c'}, 'id': 'humid 4', 'hasState': {'isOn': True}, 'deviceName': 'humidity', 'isIn': {'buildingenvironment': 'dining room'}, 'ts': 1639361608131}]\n",
      "\n"
     ]
    }
   ],
   "source": [
    "input_text = tf.constant(['give me the state of the light in the living room.',\n",
    "         'humidity at living room',\n",
    "         'humidity at dining room'\n",
    "])\n",
    "\n",
    "result = translator.translate(input_text)\n",
    "\n",
    "for i, tr in enumerate(result['text']):\n",
    "  print(input_text[i])\n",
    "  tr = tr.numpy().decode()\n",
    "  query = decode_query(tr)\n",
    "  print(query)\n",
    "  print(get_result(query))\n",
    "  print()"
   ]
  },
  {
   "cell_type": "code",
   "execution_count": null,
   "metadata": {
    "colab": {
     "base_uri": "https://localhost:8080/"
    },
    "id": "pWLASa5WZk-_",
    "outputId": "457c639d-2d6e-476d-c3e4-d3420b14da14"
   },
   "outputs": [
    {
     "name": "stderr",
     "output_type": "stream",
     "text": [
      "WARNING:absl:Found untraced functions such as encoder_layer_call_fn, encoder_layer_call_and_return_conditional_losses, decoder_layer_call_fn, decoder_layer_call_and_return_conditional_losses, embedding_layer_call_fn while saving (showing 5 of 60). These functions will not be directly callable after loading.\n"
     ]
    },
    {
     "name": "stdout",
     "output_type": "stream",
     "text": [
      "INFO:tensorflow:Assets written to: drive/MyDrive/SIT724/saved_model/translator/assets\n"
     ]
    },
    {
     "name": "stderr",
     "output_type": "stream",
     "text": [
      "INFO:tensorflow:Assets written to: drive/MyDrive/SIT724/saved_model/translator/assets\n"
     ]
    }
   ],
   "source": [
    "tf.saved_model.save(translator, 'drive/MyDrive/SIT724/saved_model/translator',\n",
    "                    signatures={'serving_default': translator.tf_translate})"
   ]
  },
  {
   "cell_type": "markdown",
   "metadata": {
    "id": "BiLlyiwalyIi"
   },
   "source": [
    "# Reload and translate"
   ]
  },
  {
   "cell_type": "code",
   "execution_count": null,
   "metadata": {
    "id": "RwfUNOzml4d8"
   },
   "outputs": [],
   "source": [
    "translator = tf.saved_model.load('drive/MyDrive/SIT724/saved_model/translator')"
   ]
  },
  {
   "cell_type": "code",
   "execution_count": null,
   "metadata": {
    "id": "lizM1ZkZlDk1"
   },
   "outputs": [],
   "source": [
    "def plot_attention(attention, sentence, predicted_sentence):\n",
    "  sentence = tf_lower_and_split_punct(sentence).numpy().decode().split()\n",
    "  predicted_sentence = predicted_sentence.numpy().decode().split() + ['[END]']\n",
    "  fig = plt.figure(figsize=(10, 10))\n",
    "  ax = fig.add_subplot(1, 1, 1)\n",
    "\n",
    "  attention = attention[:len(predicted_sentence), :len(sentence)]\n",
    "\n",
    "  ax.matshow(attention, cmap='viridis', vmin=0.0)\n",
    "\n",
    "  fontdict = {'fontsize': 14}\n",
    "\n",
    "  ax.set_xticklabels([''] + sentence, fontdict=fontdict, rotation=90)\n",
    "  ax.set_yticklabels([''] + predicted_sentence, fontdict=fontdict)\n",
    "\n",
    "  ax.xaxis.set_major_locator(ticker.MultipleLocator(1))\n",
    "  ax.yaxis.set_major_locator(ticker.MultipleLocator(1))\n",
    "\n",
    "  ax.set_xlabel('Input text')\n",
    "  ax.set_ylabel('Output text')\n",
    "  plt.suptitle('Attention weights')\n",
    "  plt.show()"
   ]
  },
  {
   "cell_type": "code",
   "execution_count": null,
   "metadata": {
    "colab": {
     "base_uri": "https://localhost:8080/",
     "height": 256
    },
    "id": "qCmnshq8iIBk",
    "outputId": "244edf97-bb95-4832-d456-c5e1a4abd99e"
   },
   "outputs": [
    {
     "name": "stdout",
     "output_type": "stream",
     "text": [
      "tf.Tensor(b'give me the state of the light in the living room.', shape=(), dtype=string)\n"
     ]
    },
    {
     "ename": "NameError",
     "evalue": "ignored",
     "output_type": "error",
     "traceback": [
      "\u001b[0;31m---------------------------------------------------------------------------\u001b[0m",
      "\u001b[0;31mNameError\u001b[0m                                 Traceback (most recent call last)",
      "\u001b[0;32m<ipython-input-8-0bcf4bd5ec7a>\u001b[0m in \u001b[0;36m<module>\u001b[0;34m()\u001b[0m\n\u001b[1;32m     10\u001b[0m   \u001b[0mprint\u001b[0m\u001b[0;34m(\u001b[0m\u001b[0minput_text\u001b[0m\u001b[0;34m[\u001b[0m\u001b[0mi\u001b[0m\u001b[0;34m]\u001b[0m\u001b[0;34m)\u001b[0m\u001b[0;34m\u001b[0m\u001b[0;34m\u001b[0m\u001b[0m\n\u001b[1;32m     11\u001b[0m   \u001b[0mtr\u001b[0m \u001b[0;34m=\u001b[0m \u001b[0mtr\u001b[0m\u001b[0;34m.\u001b[0m\u001b[0mnumpy\u001b[0m\u001b[0;34m(\u001b[0m\u001b[0;34m)\u001b[0m\u001b[0;34m.\u001b[0m\u001b[0mdecode\u001b[0m\u001b[0;34m(\u001b[0m\u001b[0;34m)\u001b[0m\u001b[0;34m\u001b[0m\u001b[0;34m\u001b[0m\u001b[0m\n\u001b[0;32m---> 12\u001b[0;31m   \u001b[0mquery\u001b[0m \u001b[0;34m=\u001b[0m \u001b[0mdecode_query\u001b[0m\u001b[0;34m(\u001b[0m\u001b[0mtr\u001b[0m\u001b[0;34m)\u001b[0m\u001b[0;34m\u001b[0m\u001b[0;34m\u001b[0m\u001b[0m\n\u001b[0m\u001b[1;32m     13\u001b[0m   \u001b[0mprint\u001b[0m\u001b[0;34m(\u001b[0m\u001b[0mquery\u001b[0m\u001b[0;34m)\u001b[0m\u001b[0;34m\u001b[0m\u001b[0;34m\u001b[0m\u001b[0m\n\u001b[1;32m     14\u001b[0m   \u001b[0mprint\u001b[0m\u001b[0;34m(\u001b[0m\u001b[0mget_result\u001b[0m\u001b[0;34m(\u001b[0m\u001b[0mquery\u001b[0m\u001b[0;34m)\u001b[0m\u001b[0;34m)\u001b[0m\u001b[0;34m\u001b[0m\u001b[0;34m\u001b[0m\u001b[0m\n",
      "\u001b[0;31mNameError\u001b[0m: name 'decode_query' is not defined"
     ]
    }
   ],
   "source": [
    "input_text = tf.constant(['give me the state of the light in the living room.',\n",
    "         'humidity at living room',\n",
    "         'humidity at dining room',\n",
    "         'What is the current temperature in the living room?'\n",
    "])\n",
    "\n",
    "result = translator.tf_translate(input_text)\n",
    "\n",
    "for i, tr in enumerate(result['text']):\n",
    "  print(input_text[i])\n",
    "  tr = tr.numpy().decode()\n",
    "  query = decode_query(tr)\n",
    "  print(query)\n",
    "  print(get_result(query))\n",
    "  plot_attention(result['attention'][i], input_text[i], result['text'][i])\n",
    "  print()"
   ]
  },
  {
   "cell_type": "code",
   "execution_count": null,
   "metadata": {
    "id": "tUP_4nfqJAT9"
   },
   "outputs": [],
   "source": []
  }
 ],
 "metadata": {
  "accelerator": "GPU",
  "colab": {
   "collapsed_sections": [],
   "name": "Model.ipynb",
   "provenance": []
  },
  "kernelspec": {
   "display_name": "Python 3",
   "language": "python",
   "name": "python3"
  },
  "language_info": {
   "codemirror_mode": {
    "name": "ipython",
    "version": 3
   },
   "file_extension": ".py",
   "mimetype": "text/x-python",
   "name": "python",
   "nbconvert_exporter": "python",
   "pygments_lexer": "ipython3",
   "version": "3.8.10"
  },
  "latex_envs": {
   "LaTeX_envs_menu_present": true,
   "autoclose": false,
   "autocomplete": true,
   "bibliofile": "biblio.bib",
   "cite_by": "apalike",
   "current_citInitial": 1,
   "eqLabelWithNumbers": true,
   "eqNumInitial": 1,
   "hotkeys": {
    "equation": "Ctrl-E",
    "itemize": "Ctrl-I"
   },
   "labels_anchors": false,
   "latex_user_defs": false,
   "report_style_numbering": false,
   "user_envs_cfg": false
  },
  "varInspector": {
   "cols": {
    "lenName": 16,
    "lenType": 16,
    "lenVar": 40
   },
   "kernels_config": {
    "python": {
     "delete_cmd_postfix": "",
     "delete_cmd_prefix": "del ",
     "library": "var_list.py",
     "varRefreshCmd": "print(var_dic_list())"
    },
    "r": {
     "delete_cmd_postfix": ") ",
     "delete_cmd_prefix": "rm(",
     "library": "var_list.r",
     "varRefreshCmd": "cat(var_dic_list()) "
    }
   },
   "types_to_exclude": [
    "module",
    "function",
    "builtin_function_or_method",
    "instance",
    "_Feature"
   ],
   "window_display": false
  }
 },
 "nbformat": 4,
 "nbformat_minor": 1
}
