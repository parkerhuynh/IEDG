{
 "cells": [
  {
   "cell_type": "code",
   "execution_count": 1,
   "metadata": {
    "ExecuteTime": {
     "end_time": "2021-12-14T09:22:10.804713Z",
     "start_time": "2021-12-14T09:22:09.425679Z"
    }
   },
   "outputs": [],
   "source": [
    "import tensorflow_text as tf_text\n",
    "import tensorflow as tf"
   ]
  },
  {
   "cell_type": "code",
   "execution_count": 2,
   "metadata": {
    "ExecuteTime": {
     "end_time": "2021-12-14T09:22:10.814092Z",
     "start_time": "2021-12-14T09:22:10.811573Z"
    }
   },
   "outputs": [],
   "source": [
    "lower_entities= [\"hasstate\", \"ison\", \"isin\", \"devicename\", \"statevalue\"]\n",
    "upper_entities= [\"hasState\", \"isOn\", \"isIn\", \"deviceName\", \"stateValue\"]"
   ]
  },
  {
   "cell_type": "code",
   "execution_count": null,
   "metadata": {
    "ExecuteTime": {
     "start_time": "2021-12-14T09:26:03.666Z"
    }
   },
   "outputs": [],
   "source": [
    "translator = tf.saved_model.load('../text-to-CDQL/saved_model/translator')"
   ]
  },
  {
   "cell_type": "code",
   "execution_count": 4,
   "metadata": {
    "ExecuteTime": {
     "end_time": "2021-12-14T07:12:35.411921Z",
     "start_time": "2021-12-14T07:12:35.408827Z"
    }
   },
   "outputs": [],
   "source": [
    "def decode_query(output):\n",
    "    for i in range(len(lower_entities)):\n",
    "        output = output.replace(lower_entities[i], upper_entities[i])\n",
    "    return output"
   ]
  },
  {
   "cell_type": "code",
   "execution_count": 5,
   "metadata": {
    "ExecuteTime": {
     "end_time": "2021-12-14T07:12:46.207095Z",
     "start_time": "2021-12-14T07:12:35.430780Z"
    }
   },
   "outputs": [
    {
     "data": {
      "text/plain": [
       "'pull (device.hasState.isOn) define entity device is from smarthome where device.deviceName = \"light\" and device.isIn.buildingenvironment = \"living room\"'"
      ]
     },
     "execution_count": 5,
     "metadata": {},
     "output_type": "execute_result"
    }
   ],
   "source": [
    "text = 'give me the state of the light in the living room.'\n",
    "input_text = tf.constant([text])\n",
    "result = translator.tf_translate(input_text)['text'][0].numpy().decode()\n",
    "query = decode_query(result)\n",
    "query "
   ]
  },
  {
   "cell_type": "code",
   "execution_count": 9,
   "metadata": {
    "ExecuteTime": {
     "end_time": "2021-12-14T07:23:16.122717Z",
     "start_time": "2021-12-14T07:23:16.118534Z"
    }
   },
   "outputs": [],
   "source": [
    "import requests\n"
   ]
  },
  {
   "cell_type": "code",
   "execution_count": 10,
   "metadata": {
    "ExecuteTime": {
     "end_time": "2021-12-14T07:23:16.615944Z",
     "start_time": "2021-12-14T07:23:16.611772Z"
    }
   },
   "outputs": [],
   "source": [
    "url = \"http://206.12.91.26:8070/CASM-2.0.1/api/query\"\n",
    "headers = {'Content-Type': 'text/plain'}\n",
    "def get_result(query):\n",
    "    response = requests.request(\"POST\", url, headers=headers, data=query).json()[\"device\"]\n",
    "    result = response[\"results\"]\n",
    "    return result "
   ]
  },
  {
   "cell_type": "code",
   "execution_count": 11,
   "metadata": {
    "ExecuteTime": {
     "end_time": "2021-12-14T07:23:17.356566Z",
     "start_time": "2021-12-14T07:23:16.918886Z"
    }
   },
   "outputs": [
    {
     "data": {
      "text/plain": [
       "[{'unitMeasurement': 'luminous level',\n",
       "  'stateValue': 38,\n",
       "  '_id': {'$oid': '61b74597a87f0e298b33e496'},\n",
       "  'id': 'light 3',\n",
       "  'hasState': {'isOn': True},\n",
       "  'deviceName': 'light',\n",
       "  'isIn': {'buildingenvironment': 'living room'},\n",
       "  'ts': 1639361611137}]"
      ]
     },
     "execution_count": 11,
     "metadata": {},
     "output_type": "execute_result"
    }
   ],
   "source": [
    "get_result(query)"
   ]
  },
  {
   "cell_type": "code",
   "execution_count": null,
   "metadata": {},
   "outputs": [],
   "source": []
  }
 ],
 "metadata": {
  "kernelspec": {
   "display_name": "Python 3",
   "language": "python",
   "name": "python3"
  },
  "language_info": {
   "codemirror_mode": {
    "name": "ipython",
    "version": 3
   },
   "file_extension": ".py",
   "mimetype": "text/x-python",
   "name": "python",
   "nbconvert_exporter": "python",
   "pygments_lexer": "ipython3",
   "version": "3.8.10"
  },
  "latex_envs": {
   "LaTeX_envs_menu_present": true,
   "autoclose": false,
   "autocomplete": true,
   "bibliofile": "biblio.bib",
   "cite_by": "apalike",
   "current_citInitial": 1,
   "eqLabelWithNumbers": true,
   "eqNumInitial": 1,
   "hotkeys": {
    "equation": "Ctrl-E",
    "itemize": "Ctrl-I"
   },
   "labels_anchors": false,
   "latex_user_defs": false,
   "report_style_numbering": false,
   "user_envs_cfg": false
  },
  "varInspector": {
   "cols": {
    "lenName": 16,
    "lenType": 16,
    "lenVar": 40
   },
   "kernels_config": {
    "python": {
     "delete_cmd_postfix": "",
     "delete_cmd_prefix": "del ",
     "library": "var_list.py",
     "varRefreshCmd": "print(var_dic_list())"
    },
    "r": {
     "delete_cmd_postfix": ") ",
     "delete_cmd_prefix": "rm(",
     "library": "var_list.r",
     "varRefreshCmd": "cat(var_dic_list()) "
    }
   },
   "types_to_exclude": [
    "module",
    "function",
    "builtin_function_or_method",
    "instance",
    "_Feature"
   ],
   "window_display": false
  }
 },
 "nbformat": 4,
 "nbformat_minor": 5
}
